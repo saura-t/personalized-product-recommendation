{
 "cells": [
  {
   "cell_type": "code",
   "execution_count": 1,
   "id": "09104706",
   "metadata": {},
   "outputs": [],
   "source": [
    "%reset -f"
   ]
  },
  {
   "cell_type": "code",
   "execution_count": 2,
   "id": "51879165",
   "metadata": {},
   "outputs": [
    {
     "name": "stdout",
     "output_type": "stream",
     "text": [
      "3.9.21 (main, Dec 11 2024, 16:35:24) [MSC v.1929 64 bit (AMD64)]\n"
     ]
    }
   ],
   "source": [
    "# make sure python version is between 3.7 and 3.10\n",
    "import sys\n",
    "print(sys.version)"
   ]
  },
  {
   "cell_type": "markdown",
   "id": "52186791",
   "metadata": {},
   "source": [
    "## Importing Libraries"
   ]
  },
  {
   "cell_type": "code",
   "execution_count": null,
   "id": "ab9ddf4d",
   "metadata": {},
   "outputs": [],
   "source": [
    "#Data import\n",
    "import kagglehub as kh\n",
    "import sqlite3 as s3\n",
    "\n",
    "#Data Exploring\n",
    "import pandas as pd\n",
    "import numpy as np\n",
    "\n",
    "#Data Visualization\n",
    "import matplotlib.pyplot as plt\n",
    "import seaborn as sns\n",
    "\n",
    "#Data PreProcessing & Modeling\n",
    "from surprise import Dataset, Reader\n",
    "from surprise import SVD\n",
    "from surprise.model_selection import cross_validate, train_test_split, GridSearchCV\n",
    "from surprise import accuracy\n",
    "from collections import defaultdict\n",
    "import pickle"
   ]
  },
  {
   "cell_type": "markdown",
   "id": "1acd6759",
   "metadata": {},
   "source": [
    "## Loading Data"
   ]
  },
  {
   "cell_type": "code",
   "execution_count": 16,
   "id": "325dc5e3",
   "metadata": {},
   "outputs": [
    {
     "name": "stdout",
     "output_type": "stream",
     "text": [
      "Warning: Looks like you're using an outdated `kagglehub` version, please consider updating (latest version: 0.3.8)\n",
      "Path to dataset files: C:\\Users\\saura\\.cache\\kagglehub\\datasets\\snap\\amazon-fine-food-reviews\\versions\\2\n"
     ]
    }
   ],
   "source": [
    "path = kh.dataset_download(\"snap/amazon-fine-food-reviews\")\n",
    "print(\"Path to dataset files:\", path)\n",
    "# conn = s3.connect(path+'/database.sqlite')"
   ]
  },
  {
   "cell_type": "code",
   "execution_count": null,
   "id": "3cc3b5bd",
   "metadata": {},
   "outputs": [],
   "source": [
    "df = pd.read_sql_query(\"\"\" SELECT * FROM Reviews\"\"\", conn)"
   ]
  },
  {
   "cell_type": "markdown",
   "id": "07b11d79",
   "metadata": {},
   "source": [
    "## Exploring Data"
   ]
  },
  {
   "cell_type": "code",
   "execution_count": null,
   "id": "c0e2c55a",
   "metadata": {},
   "outputs": [],
   "source": [
    "print(df.head())"
   ]
  },
  {
   "cell_type": "code",
   "execution_count": null,
   "id": "ac0e66b4",
   "metadata": {},
   "outputs": [],
   "source": [
    "df.info()"
   ]
  },
  {
   "cell_type": "code",
   "execution_count": null,
   "id": "3ec89125",
   "metadata": {},
   "outputs": [],
   "source": [
    "df.describe()"
   ]
  },
  {
   "cell_type": "code",
   "execution_count": null,
   "id": "105adb60",
   "metadata": {},
   "outputs": [],
   "source": [
    "df.isnull().sum()"
   ]
  },
  {
   "cell_type": "markdown",
   "id": "3248328c",
   "metadata": {},
   "source": [
    "## PreProcessing Data"
   ]
  },
  {
   "cell_type": "code",
   "execution_count": null,
   "id": "7f059a1a",
   "metadata": {},
   "outputs": [],
   "source": [
    "#Drop null and duplicates\n",
    "df.dropna(inplace=True)\n",
    "df.drop_duplicates(inplace=True)"
   ]
  },
  {
   "cell_type": "code",
   "execution_count": null,
   "id": "7f11e480",
   "metadata": {},
   "outputs": [],
   "source": [
    "df = df[['UserId', 'ProductId', 'Score']]\n",
    "df.columns = ['user_id', 'item_id', 'rating']"
   ]
  },
  {
   "cell_type": "code",
   "execution_count": null,
   "id": "cfcd6f27",
   "metadata": {},
   "outputs": [],
   "source": [
    "print(f\"Dataset size after cleaning: {df.shape}\")\n",
    "\n",
    "df['user_id'] = df['user_id'].astype(str)\n",
    "df['item_id'] = df['item_id'].astype(str)\n",
    "df['rating'] = df['rating'].astype(float)\n",
    "\n",
    "# Keep users with at least 50 reviews\n",
    "min_reviews = 50\n",
    "user_counts = df['user_id'].value_counts()\n",
    "df = df[df['user_id'].isin(user_counts[user_counts >= min_reviews].index)]\n",
    "\n",
    "# Keep products with at least 5 reviews\n",
    "# item_counts = df['item_id'].value_counts()\n",
    "# df = df[df['item_id'].isin(item_counts[item_counts >= min_reviews].index)]\n",
    "\n",
    "print(f\"Dataset size after filtering: {df.shape}\")"
   ]
  },
  {
   "cell_type": "code",
   "execution_count": null,
   "id": "b8aa1503",
   "metadata": {},
   "outputs": [],
   "source": [
    "# Number of unique user id and product id in the data\n",
    "print('Number of unique USERS in Raw data = ', df['user_id'].nunique())\n",
    "print('Number of unique ITEMS in Raw data = ', df['item_id'].nunique())"
   ]
  },
  {
   "cell_type": "code",
   "execution_count": null,
   "id": "c0c37a74",
   "metadata": {},
   "outputs": [],
   "source": [
    "# Define reader with rating scale\n",
    "reader = Reader(rating_scale=(df['rating'].min(), df['rating'].max()))\n",
    "\n",
    "# Load data into Surprise dataset\n",
    "data = Dataset.load_from_df(df[['user_id', 'item_id', 'rating']], reader)"
   ]
  },
  {
   "cell_type": "code",
   "execution_count": null,
   "id": "669bfcc4",
   "metadata": {},
   "outputs": [],
   "source": []
  },
  {
   "cell_type": "markdown",
   "id": "5bf191ec",
   "metadata": {},
   "source": [
    "## Data Visualization"
   ]
  },
  {
   "cell_type": "code",
   "execution_count": null,
   "id": "ae1fd905",
   "metadata": {},
   "outputs": [],
   "source": [
    "# Distribution of Ratings\n",
    "df['rating'].value_counts().sort_index().plot(kind='bar')\n",
    "plt.title('Distribution of Ratings')\n",
    "plt.xlabel('Rating')\n",
    "plt.ylabel('Frequency')\n",
    "plt.show()"
   ]
  },
  {
   "cell_type": "code",
   "execution_count": null,
   "id": "f88d2d87",
   "metadata": {},
   "outputs": [],
   "source": [
    "# Top 10 Most Rated Products\n",
    "df['item_id'].value_counts().nlargest(10).plot(kind='bar')\n",
    "plt.title('Top 10 Most Rated Products')\n",
    "plt.xlabel('Item ID')\n",
    "plt.ylabel('Number of Ratings')\n",
    "plt.show()"
   ]
  },
  {
   "cell_type": "code",
   "execution_count": null,
   "id": "ba8ba658",
   "metadata": {},
   "outputs": [],
   "source": [
    "### 1. User-Product Interaction Heatmap ###\n",
    "interaction_matrix = df.pivot_table(index='user_id', columns='item_id', values='rating', fill_value=0)\n",
    "plt.figure(figsize=(12, 8))\n",
    "sns.heatmap(interaction_matrix, cmap=\"coolwarm\", cbar=True)\n",
    "plt.title('User-Product Interaction Heatmap')\n",
    "plt.xlabel('Product ID')\n",
    "plt.ylabel('User ID')\n",
    "plt.show()"
   ]
  },
  {
   "cell_type": "markdown",
   "id": "0783fbd0",
   "metadata": {},
   "source": [
    "## Model Training"
   ]
  },
  {
   "cell_type": "code",
   "execution_count": null,
   "id": "558ee407",
   "metadata": {},
   "outputs": [],
   "source": [
    "# Split into train (80%) and test (20%)\n",
    "trainset, testset = train_test_split(data, test_size=0.2, random_state=42)\n"
   ]
  },
  {
   "cell_type": "code",
   "execution_count": null,
   "id": "63883a75",
   "metadata": {},
   "outputs": [],
   "source": [
    "# Train SVD\n",
    "svd_model = SVD(n_factors=50, random_state=42)\n",
    "svd_model.fit(trainset)"
   ]
  },
  {
   "cell_type": "code",
   "execution_count": null,
   "id": "22b381b3",
   "metadata": {},
   "outputs": [],
   "source": [
    "# Make predictions on the test set\n",
    "predictions = svd_model.test(testset)\n",
    "\n",
    "# Calculate RMSE (Root Mean Square Error)\n",
    "rmse = accuracy.rmse(predictions)\n",
    "print(f\"Test RMSE: {rmse}\")"
   ]
  },
  {
   "cell_type": "code",
   "execution_count": null,
   "id": "d92b5eac",
   "metadata": {},
   "outputs": [],
   "source": [
    "def get_top_n_recommendations(model, user_id, n=5):\n",
    "    all_products = df['item_id'].unique()\n",
    "    predictions = [(item, model.predict(user_id, item).est) for item in all_products]\n",
    "    top_n = sorted(predictions, key=lambda x: x[1], reverse=True)[:n]\n",
    "    return top_n\n",
    "\n",
    "# Example: Get top 5 recommendations for user 123\n",
    "recommendations = get_top_n_recommendations(model, user_id=123, n=5)\n",
    "print(recommendations)"
   ]
  },
  {
   "cell_type": "code",
   "execution_count": null,
   "id": "c81c7cf5",
   "metadata": {},
   "outputs": [],
   "source": [
    "param_grid = {\n",
    "    'n_factors': [50, 100, 150],\n",
    "    'n_epochs': [10, 20],\n",
    "    'lr_all': [0.002, 0.005],\n",
    "    'reg_all': [0.02, 0.1]\n",
    "}\n",
    "\n",
    "grid_search = GridSearchCV(SVD, param_grid, measures=['rmse'], cv=3)\n",
    "grid_search.fit(data)\n",
    "\n",
    "# Best model\n",
    "best_model = grid_search.best_estimator['rmse']\n"
   ]
  },
  {
   "cell_type": "code",
   "execution_count": null,
   "id": "c116cff1",
   "metadata": {},
   "outputs": [],
   "source": [
    "# Save the trained model\n",
    "with open(\"./models/recommendation_model.pkl\", \"wb\") as model_file:\n",
    "    pickle.dump(best_model, model_file)\n",
    "\n",
    "print(\"Model saved successfully!\")"
   ]
  },
  {
   "cell_type": "code",
   "execution_count": null,
   "id": "fabfd146",
   "metadata": {},
   "outputs": [],
   "source": [
    "# Load the trained model\n",
    "with open(\"./models/recommendation_model.pkl\", \"rb\") as model_file:\n",
    "    loaded_model = pickle.load(model_file)\n",
    "\n",
    "print(\"Model loaded successfully!\")"
   ]
  },
  {
   "cell_type": "code",
   "execution_count": null,
   "id": "2bcf819e",
   "metadata": {},
   "outputs": [],
   "source": []
  }
 ],
 "metadata": {
  "kernelspec": {
   "display_name": "proj_rec_kernel",
   "language": "python",
   "name": "proj_rec_kernel"
  },
  "language_info": {
   "codemirror_mode": {
    "name": "ipython",
    "version": 3
   },
   "file_extension": ".py",
   "mimetype": "text/x-python",
   "name": "python",
   "nbconvert_exporter": "python",
   "pygments_lexer": "ipython3",
   "version": "3.9.21"
  }
 },
 "nbformat": 4,
 "nbformat_minor": 5
}
